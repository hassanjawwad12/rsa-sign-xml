{
  "nbformat": 4,
  "nbformat_minor": 0,
  "metadata": {
    "colab": {
      "provenance": []
    },
    "kernelspec": {
      "name": "python3",
      "display_name": "Python 3"
    },
    "language_info": {
      "name": "python"
    }
  },
  "cells": [
    {
      "cell_type": "code",
      "source": [
        "!pip install xmlsec"
      ],
      "metadata": {
        "colab": {
          "base_uri": "https://localhost:8080/"
        },
        "id": "MeCxQ-CVxRxq",
        "outputId": "fa219d7c-7d1e-4a19-c04e-1e16fe40008d"
      },
      "execution_count": 1,
      "outputs": [
        {
          "output_type": "stream",
          "name": "stdout",
          "text": [
            "Collecting xmlsec\n",
            "  Downloading xmlsec-1.3.14-cp311-cp311-manylinux_2_17_x86_64.manylinux2014_x86_64.whl.metadata (7.3 kB)\n",
            "Requirement already satisfied: lxml>=3.8 in /usr/local/lib/python3.11/dist-packages (from xmlsec) (5.3.0)\n",
            "Downloading xmlsec-1.3.14-cp311-cp311-manylinux_2_17_x86_64.manylinux2014_x86_64.whl (3.9 MB)\n",
            "\u001b[2K   \u001b[90m━━━━━━━━━━━━━━━━━━━━━━━━━━━━━━━━━━━━━━━━\u001b[0m \u001b[32m3.9/3.9 MB\u001b[0m \u001b[31m30.9 MB/s\u001b[0m eta \u001b[36m0:00:00\u001b[0m\n",
            "\u001b[?25hInstalling collected packages: xmlsec\n",
            "Successfully installed xmlsec-1.3.14\n"
          ]
        }
      ]
    },
    {
      "cell_type": "code",
      "source": [
        "!pip install lxml xmlsec"
      ],
      "metadata": {
        "colab": {
          "base_uri": "https://localhost:8080/"
        },
        "id": "HGtiAK6px8Ai",
        "outputId": "577f7a19-a057-4e94-c1fa-20c34538e3d0"
      },
      "execution_count": 4,
      "outputs": [
        {
          "output_type": "stream",
          "name": "stdout",
          "text": [
            "Requirement already satisfied: lxml in /usr/local/lib/python3.11/dist-packages (5.3.0)\n",
            "Requirement already satisfied: xmlsec in /usr/local/lib/python3.11/dist-packages (1.3.14)\n"
          ]
        }
      ]
    },
    {
      "cell_type": "code",
      "source": [
        "from lxml import etree\n",
        "import xmlsec\n",
        "\n",
        "# Load the XML file from Google Colab\n",
        "xml_file_path = 'sample.xml'  # Path to your XML file in Colab\n",
        "with open(xml_file_path, 'rb') as f:\n",
        "    xml_data = f.read()\n",
        "\n",
        "# Parse the XML data using lxml\n",
        "root = etree.fromstring(xml_data)\n",
        "\n",
        "# Create a signature template\n",
        "template = xmlsec.template.create(\n",
        "    root,\n",
        "    xmlsec.Transform.EXCL_C14N,\n",
        "    xmlsec.Transform.RSA_SHA1,\n",
        ")\n",
        "\n",
        "# Add the reference to the XML data\n",
        "ref = xmlsec.template.add_reference(\n",
        "    template,\n",
        "    xmlsec.Transform.SHA1,\n",
        "    uri=\"\",\n",
        ")\n",
        "\n",
        "# Add the enveloped transform to the reference\n",
        "xmlsec.template.add_transform(ref, xmlsec.Transform.ENVELOPED)"
      ],
      "metadata": {
        "colab": {
          "base_uri": "https://localhost:8080/"
        },
        "id": "TQ26GDqzxVZv",
        "outputId": "23e94d92-ea80-4cd5-fecf-9bfb66be0384"
      },
      "execution_count": 6,
      "outputs": [
        {
          "output_type": "execute_result",
          "data": {
            "text/plain": [
              "<Element {http://www.w3.org/2000/09/xmldsig#}Transform at 0x7ba4bca0d640>"
            ]
          },
          "metadata": {},
          "execution_count": 6
        }
      ]
    },
    {
      "cell_type": "code",
      "source": [
        "# Load the RSA private key (replace with your key)\n",
        "key = xmlsec.Key.from_file('private_key.pem', xmlsec.KeyFormat.PEM)\n",
        "\n",
        "# Sign the XML\n",
        "ctx = xmlsec.SignatureContext()\n",
        "ctx.key = key\n",
        "ctx.sign(template)\n",
        "\n",
        "# Save the signed XML to a new file\n",
        "signed_xml_file_path = 'signed_sample.xml'\n",
        "tree = etree.ElementTree(root)\n",
        "tree.write(signed_xml_file_path, encoding='utf-8', xml_declaration=True)\n",
        "\n",
        "print(f\"Signed XML saved to: {signed_xml_file_path}\")"
      ],
      "metadata": {
        "id": "GkKGf7PQyUeb"
      },
      "execution_count": null,
      "outputs": []
    }
  ]
}